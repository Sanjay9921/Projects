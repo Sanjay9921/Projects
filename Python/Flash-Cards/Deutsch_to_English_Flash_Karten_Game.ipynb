{
 "cells": [
  {
   "cell_type": "markdown",
   "id": "75967335",
   "metadata": {},
   "source": [
    "# Libraries "
   ]
  },
  {
   "cell_type": "code",
   "execution_count": 1,
   "id": "02a2df0c",
   "metadata": {},
   "outputs": [],
   "source": [
    "import tkinter\n",
    "from tkinter import *\n",
    "from tkinter import messagebox\n",
    "import pandas as pd\n",
    "import random"
   ]
  },
  {
   "cell_type": "markdown",
   "id": "5c80ffe4",
   "metadata": {},
   "source": [
    "# Constants "
   ]
  },
  {
   "cell_type": "code",
   "execution_count": 2,
   "id": "a5a9c7ed",
   "metadata": {},
   "outputs": [],
   "source": [
    "BACKGROUND_COLOR = \"#B1DDC6\"\n",
    "SET_FONT1 = (\"Arial\", 40, \"italic\")\n",
    "SET_FONT2 = (\"Arial\", 60, \"bold\")\n",
    "current_card = {}\n",
    "to_learn = {}"
   ]
  },
  {
   "cell_type": "markdown",
   "id": "b4c29d70",
   "metadata": {},
   "source": [
    "# Read Deutsch/German words"
   ]
  },
  {
   "cell_type": "code",
   "execution_count": 7,
   "id": "fa67438b",
   "metadata": {},
   "outputs": [],
   "source": [
    "try:\n",
    "    df = pd.read_csv(\"data/words_to_learn.csv\", encoding = \"ISO-8859-1\")\n",
    "except FileNotFoundError:\n",
    "    df_original = pd.read_csv(\"data/deutsch_words.csv\", encoding = \"ISO-8859-1\")\n",
    "    to_learn = df_original.to_dict(orient=\"records\")\n",
    "else:\n",
    "    to_learn = df.to_dict(orient=\"records\")"
   ]
  },
  {
   "cell_type": "markdown",
   "id": "a6b51490",
   "metadata": {},
   "source": [
    "# Functions for the Flash Card "
   ]
  },
  {
   "cell_type": "code",
   "execution_count": 22,
   "id": "aad7b54a",
   "metadata": {},
   "outputs": [],
   "source": [
    "# Get Next Flash Card\n",
    "def get_next_card():\n",
    "    global current_card, flip_timer\n",
    "    window.after_cancel(flip_timer)\n",
    "    \n",
    "    current_card = random.choice(to_learn)\n",
    "    \n",
    "    canvas.itemconfig(card_title, text=\"Deutsch\", fill=\"black\")\n",
    "    canvas.itemconfig(card_word, text=current_card[\"German\"], fill=\"black\")\n",
    "    canvas.itemconfig(card_bg, image = card_front_img)\n",
    "    \n",
    "    flip_timer = window.after(3000, func = flip_card) #3000ms"
   ]
  },
  {
   "cell_type": "code",
   "execution_count": 19,
   "id": "7e73eff0",
   "metadata": {},
   "outputs": [],
   "source": [
    "# Flip Card for flip timer\n",
    "\n",
    "def flip_card():\n",
    "    \n",
    "    canvas.itemconfig(card_title, text=\"English\", fill=\"white\")\n",
    "    canvas.itemconfig(card_word, text=current_card[\"English\"], fill=\"white\")\n",
    "    canvas.itemconfig(card_bg, image = card_back_img)"
   ]
  },
  {
   "cell_type": "code",
   "execution_count": 20,
   "id": "7f689c45",
   "metadata": {},
   "outputs": [],
   "source": [
    "# Right Button\n",
    "\n",
    "def is_known():\n",
    "    \n",
    "    to_learn.remove(current_card)\n",
    "    data = pd.DataFrame(to_learn) # to_learn is a dict\n",
    "    data.to_csv(\"data/words_to_learn.csv\", index=False)\n",
    "    \n",
    "    get_next_card()"
   ]
  },
  {
   "cell_type": "markdown",
   "id": "e1d7d955",
   "metadata": {},
   "source": [
    "# UI for Flash Card "
   ]
  },
  {
   "cell_type": "code",
   "execution_count": 25,
   "id": "f6d25bf7",
   "metadata": {},
   "outputs": [],
   "source": [
    "window = Tk()\n",
    "window.title(\"Flash Karten\")\n",
    "window.config(padx=50, pady=50, bg=BACKGROUND_COLOR)\n",
    "\n",
    "#First flip timer\n",
    "flip_timer = window.after(3000, func=flip_card) #3000 ms ~ 3s\n",
    "\n",
    "#Canvas Widget\n",
    "canvas = Canvas(width=800, height=600)\n",
    "\n",
    "card_front_img = PhotoImage(file=\"images/card_front.png\")\n",
    "card_back_img = PhotoImage(file=\"images/card_back.png\")\n",
    "\n",
    "card_bg = canvas.create_image(400, 280, image=card_front_img)\n",
    "card_title = canvas.create_text(400, 150, text=\"Title\", font=SET_FONT1)\n",
    "card_word = canvas.create_text(400, 280, text=\"Word\", font=SET_FONT2)\n",
    "\n",
    "canvas.config(bg=BACKGROUND_COLOR, highlightthickness=0)\n",
    "\n",
    "#Button Widget\n",
    "cross_img = PhotoImage(file=\"images/wrong.png\")\n",
    "cross_btn = Button(image=cross_img, highlightthickness=0, command=get_next_card)\n",
    "\n",
    "right_img = PhotoImage(file=\"images/right.png\")\n",
    "right_btn = Button(image=right_img, highlightthickness=0, command=get_next_card)\n",
    "\n",
    "#Attaching to grid\n",
    "canvas.grid(row=0, column=0, columnspan=2)\n",
    "\n",
    "cross_btn.grid(row=1, column=0)\n",
    "right_btn.grid(row=1, column=1)\n",
    "\n",
    "get_next_card()\n",
    "\n",
    "window.mainloop()"
   ]
  }
 ],
 "metadata": {
  "kernelspec": {
   "display_name": "Python 3 (ipykernel)",
   "language": "python",
   "name": "python3"
  },
  "language_info": {
   "codemirror_mode": {
    "name": "ipython",
    "version": 3
   },
   "file_extension": ".py",
   "mimetype": "text/x-python",
   "name": "python",
   "nbconvert_exporter": "python",
   "pygments_lexer": "ipython3",
   "version": "3.9.13"
  }
 },
 "nbformat": 4,
 "nbformat_minor": 5
}
