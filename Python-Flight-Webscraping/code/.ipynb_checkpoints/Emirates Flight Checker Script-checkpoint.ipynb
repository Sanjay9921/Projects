{
 "cells": [
  {
   "cell_type": "markdown",
   "metadata": {},
   "source": [
    "# 1. Libraries "
   ]
  },
  {
   "cell_type": "code",
   "execution_count": 102,
   "metadata": {
    "execution": {
     "iopub.execute_input": "2023-04-24T00:50:43.296002Z",
     "iopub.status.busy": "2023-04-24T00:50:43.295511Z",
     "iopub.status.idle": "2023-04-24T00:50:57.125850Z",
     "shell.execute_reply": "2023-04-24T00:50:57.126295Z"
    }
   },
   "outputs": [],
   "source": [
    "# get_ipython().system(\"pip install selenium\")\n",
    "# get_ipython().system(\"pip install python-dotenv\")"
   ]
  },
  {
   "cell_type": "code",
   "execution_count": 103,
   "metadata": {
    "execution": {
     "iopub.execute_input": "2023-04-24T00:50:57.130869Z",
     "iopub.status.busy": "2023-04-24T00:50:57.130361Z",
     "iopub.status.idle": "2023-04-24T00:50:57.183120Z",
     "shell.execute_reply": "2023-04-24T00:50:57.183518Z"
    }
   },
   "outputs": [],
   "source": [
    "# Selenium\n",
    "from selenium import webdriver\n",
    "from selenium.webdriver.chrome.service import Service\n",
    "from selenium.webdriver.common.by import By\n",
    "from selenium.webdriver.chrome.options import Options\n",
    "from selenium.common.exceptions import NoSuchElementException\n",
    "from selenium.webdriver import ActionChains # Right Click\n",
    "\n",
    "# Beautiful Soup\n",
    "from bs4 import BeautifulSoup\n",
    "\n",
    "# Dataframe\n",
    "import pandas as pd\n",
    "\n",
    "# OS module to work with directories\n",
    "import os\n",
    "\n",
    "# For environmental variables\n",
    "from dotenv import load_dotenv\n",
    "\n",
    "# Time module\n",
    "import time\n",
    "\n",
    "# Datetime module\n",
    "from datetime import datetime as dt\n",
    "\n",
    "# Self created module\n",
    "from calendar_conversion import *"
   ]
  },
  {
   "cell_type": "markdown",
   "metadata": {},
   "source": [
    "# 2. Chromium setup "
   ]
  },
  {
   "cell_type": "code",
   "execution_count": 104,
   "metadata": {
    "execution": {
     "iopub.execute_input": "2023-04-24T00:50:57.187914Z",
     "iopub.status.busy": "2023-04-24T00:50:57.187439Z",
     "iopub.status.idle": "2023-04-24T00:51:23.271097Z",
     "shell.execute_reply": "2023-04-24T00:51:23.271517Z"
    }
   },
   "outputs": [],
   "source": [
    "# !sudo apt-get update\n",
    "# !sudo apt install chromium-browser -y\n",
    "# !sudo apt install chromium-chromedriver"
   ]
  },
  {
   "cell_type": "code",
   "execution_count": 105,
   "metadata": {
    "execution": {
     "iopub.execute_input": "2023-04-24T00:51:23.275569Z",
     "iopub.status.busy": "2023-04-24T00:51:23.275101Z",
     "iopub.status.idle": "2023-04-24T00:51:23.277217Z",
     "shell.execute_reply": "2023-04-24T00:51:23.276815Z"
    }
   },
   "outputs": [],
   "source": [
    "# chrome_options = Options()\n",
    "# chrome_options.add_argument('--headless')\n",
    "# chrome_options.add_argument('--no-sandbox')\n",
    "# chrome_options.add_argument('--disable-dev-shm-usage')"
   ]
  },
  {
   "cell_type": "code",
   "execution_count": 106,
   "metadata": {
    "execution": {
     "iopub.execute_input": "2023-04-24T00:51:23.308144Z",
     "iopub.status.busy": "2023-04-24T00:51:23.307691Z",
     "iopub.status.idle": "2023-04-24T00:51:23.309743Z",
     "shell.execute_reply": "2023-04-24T00:51:23.309350Z"
    }
   },
   "outputs": [],
   "source": [
    "url1 = \"https://www.emirates.com/in/english/\""
   ]
  },
  {
   "cell_type": "code",
   "execution_count": 107,
   "metadata": {
    "execution": {
     "iopub.execute_input": "2023-04-24T00:51:23.313002Z",
     "iopub.status.busy": "2023-04-24T00:51:23.312536Z",
     "iopub.status.idle": "2023-04-24T00:51:25.804283Z",
     "shell.execute_reply": "2023-04-24T00:51:25.804696Z"
    }
   },
   "outputs": [],
   "source": [
    "service = Service(\"chromedriver\")\n",
    "driver = webdriver.Chrome(service=service)\n",
    "driver.get(url1)"
   ]
  },
  {
   "cell_type": "markdown",
   "metadata": {},
   "source": [
    "# 3. Emirates Flight Page Webscraping"
   ]
  },
  {
   "cell_type": "markdown",
   "metadata": {},
   "source": [
    "### 3.1 Accept Cookies "
   ]
  },
  {
   "cell_type": "code",
   "execution_count": 108,
   "metadata": {},
   "outputs": [
    {
     "data": {
      "text/plain": [
       "'Accept'"
      ]
     },
     "execution_count": 108,
     "metadata": {},
     "output_type": "execute_result"
    }
   ],
   "source": [
    "btn_cookie = driver.find_element(By.ID, \"onetrust-accept-btn-handler\")\n",
    "btn_cookie.text"
   ]
  },
  {
   "cell_type": "code",
   "execution_count": 109,
   "metadata": {},
   "outputs": [],
   "source": [
    "btn_cookie.click()"
   ]
  },
  {
   "cell_type": "markdown",
   "metadata": {},
   "source": [
    "### 3.2 Enter Source and Destination "
   ]
  },
  {
   "cell_type": "code",
   "execution_count": 110,
   "metadata": {},
   "outputs": [],
   "source": [
    "source = \"Hyderabad (HYD)\"\n",
    "destination = \"Frankfurt am Main (FRA)\""
   ]
  },
  {
   "cell_type": "code",
   "execution_count": 111,
   "metadata": {},
   "outputs": [],
   "source": [
    "txt_source = driver.find_element(By.NAME, \"Departure airport\")\n",
    "txt_source.clear()\n",
    "txt_source.send_keys(source)"
   ]
  },
  {
   "cell_type": "code",
   "execution_count": 112,
   "metadata": {},
   "outputs": [],
   "source": [
    "txt_dest = driver.find_element(By.NAME, \"Arrival airport\")\n",
    "txt_dest.clear()\n",
    "txt_dest.send_keys(destination)"
   ]
  },
  {
   "cell_type": "code",
   "execution_count": 113,
   "metadata": {},
   "outputs": [
    {
     "data": {
      "text/plain": [
       "'Continue'"
      ]
     },
     "execution_count": 113,
     "metadata": {},
     "output_type": "execute_result"
    }
   ],
   "source": [
    "btn_continue = driver.find_element(By.CLASS_NAME, \"grid__item.medium--one-fifth.search-flight__continue\")\n",
    "btn_continue.text"
   ]
  },
  {
   "cell_type": "code",
   "execution_count": 114,
   "metadata": {},
   "outputs": [],
   "source": [
    "btn_continue.click()"
   ]
  },
  {
   "cell_type": "markdown",
   "metadata": {},
   "source": [
    "### 3.3 Select One-Way "
   ]
  },
  {
   "cell_type": "code",
   "execution_count": 115,
   "metadata": {},
   "outputs": [
    {
     "data": {
      "text/plain": [
       "'One way'"
      ]
     },
     "execution_count": 115,
     "metadata": {},
     "output_type": "execute_result"
    }
   ],
   "source": [
    "lbl_one_way = driver.find_element(By.CLASS_NAME, \"checkbox.one-way\")\n",
    "lbl_one_way.text"
   ]
  },
  {
   "cell_type": "code",
   "execution_count": 116,
   "metadata": {},
   "outputs": [],
   "source": [
    "lbl_one_way.click()"
   ]
  },
  {
   "cell_type": "markdown",
   "metadata": {},
   "source": [
    "### 3.4 Select Date "
   ]
  },
  {
   "cell_type": "code",
   "execution_count": 117,
   "metadata": {},
   "outputs": [
    {
     "name": "stdout",
     "output_type": "stream",
     "text": [
      "Your journey date is 1/3/2024\n"
     ]
    }
   ],
   "source": [
    "from_day = \"1\"\n",
    "from_month = \"3\"\n",
    "from_year = \"2024\"\n",
    "\n",
    "from_date = f\"{from_day}/{from_month}/{from_year}\"\n",
    "\n",
    "print(f\"Your journey date is {from_date}\")"
   ]
  },
  {
   "cell_type": "code",
   "execution_count": 118,
   "metadata": {},
   "outputs": [
    {
     "data": {
      "text/plain": [
       "'May2023\\nPrevious Month'"
      ]
     },
     "execution_count": 118,
     "metadata": {},
     "output_type": "execute_result"
    }
   ],
   "source": [
    "lbl_from_date = driver.find_element(By.CLASS_NAME, \"ek-datepicker__column-title\")\n",
    "lbl_from_date.text"
   ]
  },
  {
   "cell_type": "code",
   "execution_count": 119,
   "metadata": {},
   "outputs": [
    {
     "data": {
      "text/plain": [
       "'2023'"
      ]
     },
     "execution_count": 119,
     "metadata": {},
     "output_type": "execute_result"
    }
   ],
   "source": [
    "lbl_from_date_year = lbl_from_date.text.split(\"\\n\")[0][-4::]\n",
    "lbl_from_date_year"
   ]
  },
  {
   "cell_type": "code",
   "execution_count": 120,
   "metadata": {
    "scrolled": true
   },
   "outputs": [
    {
     "data": {
      "text/plain": [
       "5"
      ]
     },
     "execution_count": 120,
     "metadata": {},
     "output_type": "execute_result"
    }
   ],
   "source": [
    "lbl_from_date_month = calendar_conversion[lbl_from_date.text.split(\"\\n\")[0][:-4:]]\n",
    "lbl_from_date_month"
   ]
  },
  {
   "cell_type": "code",
   "execution_count": 121,
   "metadata": {},
   "outputs": [],
   "source": [
    "while lbl_from_date_year < from_year:\n",
    "    btn_next = driver.find_element(By.CLASS_NAME, \"icon-arrow-right\")\n",
    "    btn_next.click()\n",
    "    \n",
    "    lbl_from_date_year = lbl_from_date.text.split(\"\\n\")[0][-4::]\n",
    "    lbl_from_date_year"
   ]
  },
  {
   "cell_type": "code",
   "execution_count": 122,
   "metadata": {},
   "outputs": [],
   "source": [
    "while int(lbl_from_date_month) != int(from_month):\n",
    "    btn_next = driver.find_element(By.CLASS_NAME, \"icon-arrow-right\")\n",
    "    btn_next.click()\n",
    "    \n",
    "    lbl_from_date_month = calendar_conversion[lbl_from_date.text.split(\"\\n\")[0][:-4:]]\n",
    "    lbl_from_date_month"
   ]
  },
  {
   "cell_type": "markdown",
   "metadata": {},
   "source": [
    "Now the required calendar is always on the left side "
   ]
  },
  {
   "cell_type": "code",
   "execution_count": 123,
   "metadata": {},
   "outputs": [],
   "source": [
    "td_date_tag = driver.find_element(By.XPATH,f\"//td[@data-date='{from_day}']\")\n",
    "td_date_tag.click()"
   ]
  },
  {
   "cell_type": "markdown",
   "metadata": {},
   "source": [
    "### 3.5 Search Flights "
   ]
  },
  {
   "cell_type": "code",
   "execution_count": 124,
   "metadata": {},
   "outputs": [
    {
     "data": {
      "text/plain": [
       "'Search flights'"
      ]
     },
     "execution_count": 124,
     "metadata": {},
     "output_type": "execute_result"
    }
   ],
   "source": [
    "btn_search_flights = driver.find_element(By.CLASS_NAME, \"cta.cta--large.cta--primary.js-widget-submit \")\n",
    "btn_search_flights.text"
   ]
  },
  {
   "cell_type": "code",
   "execution_count": 125,
   "metadata": {},
   "outputs": [],
   "source": [
    "btn_search_flights.click()"
   ]
  },
  {
   "cell_type": "markdown",
   "metadata": {},
   "source": [
    "### 3.6.1 Get the left pane details of available flights"
   ]
  },
  {
   "cell_type": "code",
   "execution_count": 151,
   "metadata": {},
   "outputs": [
    {
     "data": {
      "text/plain": [
       "[<selenium.webdriver.remote.webelement.WebElement (session=\"8f44bbe83f3b6ef3e2ad0455fb5971c6\", element=\"a25f5370-9813-4548-8103-2e38db0597c5\")>,\n",
       " <selenium.webdriver.remote.webelement.WebElement (session=\"8f44bbe83f3b6ef3e2ad0455fb5971c6\", element=\"bf2b19cd-4946-4c7b-99e9-187d39816a12\")>,\n",
       " <selenium.webdriver.remote.webelement.WebElement (session=\"8f44bbe83f3b6ef3e2ad0455fb5971c6\", element=\"cd57d17b-6d54-4d8a-adc9-6285633148ac\")>,\n",
       " <selenium.webdriver.remote.webelement.WebElement (session=\"8f44bbe83f3b6ef3e2ad0455fb5971c6\", element=\"5cccad50-49ac-481a-bf25-111ac9b563c2\")>,\n",
       " <selenium.webdriver.remote.webelement.WebElement (session=\"8f44bbe83f3b6ef3e2ad0455fb5971c6\", element=\"909747b5-0bd2-45c0-8e3b-566c071a205c\")>]"
      ]
     },
     "execution_count": 151,
     "metadata": {},
     "output_type": "execute_result"
    }
   ],
   "source": [
    "flight_dtls = driver.find_elements(By.CLASS_NAME, \"ts-fip.RPA\")\n",
    "flight_dtls"
   ]
  },
  {
   "cell_type": "code",
   "execution_count": 152,
   "metadata": {},
   "outputs": [
    {
     "data": {
      "text/html": [
       "<div>\n",
       "<style scoped>\n",
       "    .dataframe tbody tr th:only-of-type {\n",
       "        vertical-align: middle;\n",
       "    }\n",
       "\n",
       "    .dataframe tbody tr th {\n",
       "        vertical-align: top;\n",
       "    }\n",
       "\n",
       "    .dataframe thead th {\n",
       "        text-align: right;\n",
       "    }\n",
       "</style>\n",
       "<table border=\"1\" class=\"dataframe\">\n",
       "  <thead>\n",
       "    <tr style=\"text-align: right;\">\n",
       "      <th></th>\n",
       "      <th>0</th>\n",
       "      <th>1</th>\n",
       "      <th>2</th>\n",
       "      <th>3</th>\n",
       "      <th>4</th>\n",
       "      <th>5</th>\n",
       "      <th>6</th>\n",
       "      <th>7</th>\n",
       "      <th>8</th>\n",
       "      <th>9</th>\n",
       "      <th>10</th>\n",
       "      <th>11</th>\n",
       "    </tr>\n",
       "  </thead>\n",
       "  <tbody>\n",
       "    <tr>\n",
       "      <th>0</th>\n",
       "      <td>Flight option 1: Departing Rajiv Gandhi Airport</td>\n",
       "      <td>01</td>\n",
       "      <td>B777</td>\n",
       "      <td>EK527</td>\n",
       "      <td>A380</td>\n",
       "      <td>EK047</td>\n",
       "      <td>HYD</td>\n",
       "      <td>10:00</td>\n",
       "      <td>FRA</td>\n",
       "      <td>19:30</td>\n",
       "      <td>14 hrs 0 min</td>\n",
       "      <td>1 connection</td>\n",
       "    </tr>\n",
       "    <tr>\n",
       "      <th>0</th>\n",
       "      <td>Flight option 2: Departing Rajiv Gandhi Airport</td>\n",
       "      <td>02</td>\n",
       "      <td>B777</td>\n",
       "      <td>EK529</td>\n",
       "      <td>B777</td>\n",
       "      <td>EK043</td>\n",
       "      <td>HYD</td>\n",
       "      <td>21:20</td>\n",
       "      <td>FRA</td>\n",
       "      <td>07:35 +1</td>\n",
       "      <td>14 hrs 45 mins</td>\n",
       "      <td>1 connection</td>\n",
       "    </tr>\n",
       "    <tr>\n",
       "      <th>0</th>\n",
       "      <td>Flight option 3: Departing Rajiv Gandhi Airport</td>\n",
       "      <td>03</td>\n",
       "      <td>B777</td>\n",
       "      <td>EK525</td>\n",
       "      <td>A380</td>\n",
       "      <td>EK047</td>\n",
       "      <td>HYD</td>\n",
       "      <td>04:10</td>\n",
       "      <td>FRA</td>\n",
       "      <td>19:30</td>\n",
       "      <td>19 hrs 50 mins</td>\n",
       "      <td>1 connection</td>\n",
       "    </tr>\n",
       "    <tr>\n",
       "      <th>0</th>\n",
       "      <td>Flight option 4: Departing Rajiv Gandhi Airport</td>\n",
       "      <td>04</td>\n",
       "      <td>B777</td>\n",
       "      <td>EK527</td>\n",
       "      <td>B777</td>\n",
       "      <td>EK043</td>\n",
       "      <td>HYD</td>\n",
       "      <td>10:00</td>\n",
       "      <td>FRA</td>\n",
       "      <td>07:35 +1</td>\n",
       "      <td>26 hrs 5 mins</td>\n",
       "      <td>1 connection</td>\n",
       "    </tr>\n",
       "    <tr>\n",
       "      <th>0</th>\n",
       "      <td>Flight option 5: Departing Rajiv Gandhi Airport</td>\n",
       "      <td>05</td>\n",
       "      <td>B777</td>\n",
       "      <td>EK525</td>\n",
       "      <td>B777</td>\n",
       "      <td>EK043</td>\n",
       "      <td>HYD</td>\n",
       "      <td>04:10</td>\n",
       "      <td>FRA</td>\n",
       "      <td>07:35 +1</td>\n",
       "      <td>31 hrs 55 mins</td>\n",
       "      <td>1 connection</td>\n",
       "    </tr>\n",
       "  </tbody>\n",
       "</table>\n",
       "</div>"
      ],
      "text/plain": [
       "                                                0   1     2      3     4   \\\n",
       "0  Flight option 1: Departing Rajiv Gandhi Airport  01  B777  EK527  A380   \n",
       "0  Flight option 2: Departing Rajiv Gandhi Airport  02  B777  EK529  B777   \n",
       "0  Flight option 3: Departing Rajiv Gandhi Airport  03  B777  EK525  A380   \n",
       "0  Flight option 4: Departing Rajiv Gandhi Airport  04  B777  EK527  B777   \n",
       "0  Flight option 5: Departing Rajiv Gandhi Airport  05  B777  EK525  B777   \n",
       "\n",
       "      5    6      7    8         9               10            11  \n",
       "0  EK047  HYD  10:00  FRA     19:30    14 hrs 0 min  1 connection  \n",
       "0  EK043  HYD  21:20  FRA  07:35 +1  14 hrs 45 mins  1 connection  \n",
       "0  EK047  HYD  04:10  FRA     19:30  19 hrs 50 mins  1 connection  \n",
       "0  EK043  HYD  10:00  FRA  07:35 +1   26 hrs 5 mins  1 connection  \n",
       "0  EK043  HYD  04:10  FRA  07:35 +1  31 hrs 55 mins  1 connection  "
      ]
     },
     "execution_count": 152,
     "metadata": {},
     "output_type": "execute_result"
    }
   ],
   "source": [
    "df_flight_dtl = pd.DataFrame()\n",
    "\n",
    "for flight_dtl in flight_dtls:\n",
    "    flight_dtl_info = [flight_dtl.text.split(\"\\n\")]\n",
    "    df_flight_dtl = pd.concat([df_flight_dtl, pd.DataFrame(flight_dtl_info)])\n",
    "    \n",
    "df_flight_dtl"
   ]
  },
  {
   "cell_type": "code",
   "execution_count": 153,
   "metadata": {},
   "outputs": [],
   "source": [
    "rename_cols = {\n",
    "    1:\"ID\",\n",
    "    2:\"Airliner1\",\n",
    "    3:\"Flight_Number1\",\n",
    "    4:\"Airliner2\",\n",
    "    5:\"Flight_Number2\",\n",
    "    6:\"Source\",\n",
    "    7:\"Departure_Time\",\n",
    "    8:\"Destination\",\n",
    "    9:\"Arrival_Time\",\n",
    "    10:\"Total_Time\",\n",
    "    11:\"Connections\"\n",
    "}"
   ]
  },
  {
   "cell_type": "code",
   "execution_count": 154,
   "metadata": {},
   "outputs": [
    {
     "data": {
      "text/html": [
       "<div>\n",
       "<style scoped>\n",
       "    .dataframe tbody tr th:only-of-type {\n",
       "        vertical-align: middle;\n",
       "    }\n",
       "\n",
       "    .dataframe tbody tr th {\n",
       "        vertical-align: top;\n",
       "    }\n",
       "\n",
       "    .dataframe thead th {\n",
       "        text-align: right;\n",
       "    }\n",
       "</style>\n",
       "<table border=\"1\" class=\"dataframe\">\n",
       "  <thead>\n",
       "    <tr style=\"text-align: right;\">\n",
       "      <th></th>\n",
       "      <th>0</th>\n",
       "      <th>ID</th>\n",
       "      <th>Airliner1</th>\n",
       "      <th>Flight_Number1</th>\n",
       "      <th>Airliner2</th>\n",
       "      <th>Flight_Number2</th>\n",
       "      <th>Source</th>\n",
       "      <th>Departure_Time</th>\n",
       "      <th>Destination</th>\n",
       "      <th>Arrival_Time</th>\n",
       "      <th>Total_Time</th>\n",
       "      <th>Connections</th>\n",
       "    </tr>\n",
       "  </thead>\n",
       "  <tbody>\n",
       "    <tr>\n",
       "      <th>0</th>\n",
       "      <td>Flight option 1: Departing Rajiv Gandhi Airport</td>\n",
       "      <td>01</td>\n",
       "      <td>B777</td>\n",
       "      <td>EK527</td>\n",
       "      <td>A380</td>\n",
       "      <td>EK047</td>\n",
       "      <td>HYD</td>\n",
       "      <td>10:00</td>\n",
       "      <td>FRA</td>\n",
       "      <td>19:30</td>\n",
       "      <td>14 hrs 0 min</td>\n",
       "      <td>1 connection</td>\n",
       "    </tr>\n",
       "    <tr>\n",
       "      <th>0</th>\n",
       "      <td>Flight option 2: Departing Rajiv Gandhi Airport</td>\n",
       "      <td>02</td>\n",
       "      <td>B777</td>\n",
       "      <td>EK529</td>\n",
       "      <td>B777</td>\n",
       "      <td>EK043</td>\n",
       "      <td>HYD</td>\n",
       "      <td>21:20</td>\n",
       "      <td>FRA</td>\n",
       "      <td>07:35 +1</td>\n",
       "      <td>14 hrs 45 mins</td>\n",
       "      <td>1 connection</td>\n",
       "    </tr>\n",
       "    <tr>\n",
       "      <th>0</th>\n",
       "      <td>Flight option 3: Departing Rajiv Gandhi Airport</td>\n",
       "      <td>03</td>\n",
       "      <td>B777</td>\n",
       "      <td>EK525</td>\n",
       "      <td>A380</td>\n",
       "      <td>EK047</td>\n",
       "      <td>HYD</td>\n",
       "      <td>04:10</td>\n",
       "      <td>FRA</td>\n",
       "      <td>19:30</td>\n",
       "      <td>19 hrs 50 mins</td>\n",
       "      <td>1 connection</td>\n",
       "    </tr>\n",
       "    <tr>\n",
       "      <th>0</th>\n",
       "      <td>Flight option 4: Departing Rajiv Gandhi Airport</td>\n",
       "      <td>04</td>\n",
       "      <td>B777</td>\n",
       "      <td>EK527</td>\n",
       "      <td>B777</td>\n",
       "      <td>EK043</td>\n",
       "      <td>HYD</td>\n",
       "      <td>10:00</td>\n",
       "      <td>FRA</td>\n",
       "      <td>07:35 +1</td>\n",
       "      <td>26 hrs 5 mins</td>\n",
       "      <td>1 connection</td>\n",
       "    </tr>\n",
       "    <tr>\n",
       "      <th>0</th>\n",
       "      <td>Flight option 5: Departing Rajiv Gandhi Airport</td>\n",
       "      <td>05</td>\n",
       "      <td>B777</td>\n",
       "      <td>EK525</td>\n",
       "      <td>B777</td>\n",
       "      <td>EK043</td>\n",
       "      <td>HYD</td>\n",
       "      <td>04:10</td>\n",
       "      <td>FRA</td>\n",
       "      <td>07:35 +1</td>\n",
       "      <td>31 hrs 55 mins</td>\n",
       "      <td>1 connection</td>\n",
       "    </tr>\n",
       "  </tbody>\n",
       "</table>\n",
       "</div>"
      ],
      "text/plain": [
       "                                                 0  ID Airliner1  \\\n",
       "0  Flight option 1: Departing Rajiv Gandhi Airport  01      B777   \n",
       "0  Flight option 2: Departing Rajiv Gandhi Airport  02      B777   \n",
       "0  Flight option 3: Departing Rajiv Gandhi Airport  03      B777   \n",
       "0  Flight option 4: Departing Rajiv Gandhi Airport  04      B777   \n",
       "0  Flight option 5: Departing Rajiv Gandhi Airport  05      B777   \n",
       "\n",
       "  Flight_Number1 Airliner2 Flight_Number2 Source Departure_Time Destination  \\\n",
       "0          EK527      A380          EK047    HYD          10:00         FRA   \n",
       "0          EK529      B777          EK043    HYD          21:20         FRA   \n",
       "0          EK525      A380          EK047    HYD          04:10         FRA   \n",
       "0          EK527      B777          EK043    HYD          10:00         FRA   \n",
       "0          EK525      B777          EK043    HYD          04:10         FRA   \n",
       "\n",
       "  Arrival_Time      Total_Time   Connections  \n",
       "0        19:30    14 hrs 0 min  1 connection  \n",
       "0     07:35 +1  14 hrs 45 mins  1 connection  \n",
       "0        19:30  19 hrs 50 mins  1 connection  \n",
       "0     07:35 +1   26 hrs 5 mins  1 connection  \n",
       "0     07:35 +1  31 hrs 55 mins  1 connection  "
      ]
     },
     "execution_count": 154,
     "metadata": {},
     "output_type": "execute_result"
    }
   ],
   "source": [
    "df_flight_dtl = df_flight_dtl.rename(columns=rename_cols)\n",
    "df_flight_dtl"
   ]
  },
  {
   "cell_type": "code",
   "execution_count": 155,
   "metadata": {},
   "outputs": [
    {
     "data": {
      "text/html": [
       "<div>\n",
       "<style scoped>\n",
       "    .dataframe tbody tr th:only-of-type {\n",
       "        vertical-align: middle;\n",
       "    }\n",
       "\n",
       "    .dataframe tbody tr th {\n",
       "        vertical-align: top;\n",
       "    }\n",
       "\n",
       "    .dataframe thead th {\n",
       "        text-align: right;\n",
       "    }\n",
       "</style>\n",
       "<table border=\"1\" class=\"dataframe\">\n",
       "  <thead>\n",
       "    <tr style=\"text-align: right;\">\n",
       "      <th></th>\n",
       "      <th>ID</th>\n",
       "      <th>Airliner1</th>\n",
       "      <th>Flight_Number1</th>\n",
       "      <th>Airliner2</th>\n",
       "      <th>Flight_Number2</th>\n",
       "      <th>Source</th>\n",
       "      <th>Departure_Time</th>\n",
       "      <th>Destination</th>\n",
       "      <th>Arrival_Time</th>\n",
       "      <th>Total_Time</th>\n",
       "      <th>Connections</th>\n",
       "    </tr>\n",
       "  </thead>\n",
       "  <tbody>\n",
       "    <tr>\n",
       "      <th>0</th>\n",
       "      <td>01</td>\n",
       "      <td>B777</td>\n",
       "      <td>EK527</td>\n",
       "      <td>A380</td>\n",
       "      <td>EK047</td>\n",
       "      <td>HYD</td>\n",
       "      <td>10:00</td>\n",
       "      <td>FRA</td>\n",
       "      <td>19:30</td>\n",
       "      <td>14 hrs 0 min</td>\n",
       "      <td>1 connection</td>\n",
       "    </tr>\n",
       "    <tr>\n",
       "      <th>0</th>\n",
       "      <td>02</td>\n",
       "      <td>B777</td>\n",
       "      <td>EK529</td>\n",
       "      <td>B777</td>\n",
       "      <td>EK043</td>\n",
       "      <td>HYD</td>\n",
       "      <td>21:20</td>\n",
       "      <td>FRA</td>\n",
       "      <td>07:35 +1</td>\n",
       "      <td>14 hrs 45 mins</td>\n",
       "      <td>1 connection</td>\n",
       "    </tr>\n",
       "    <tr>\n",
       "      <th>0</th>\n",
       "      <td>03</td>\n",
       "      <td>B777</td>\n",
       "      <td>EK525</td>\n",
       "      <td>A380</td>\n",
       "      <td>EK047</td>\n",
       "      <td>HYD</td>\n",
       "      <td>04:10</td>\n",
       "      <td>FRA</td>\n",
       "      <td>19:30</td>\n",
       "      <td>19 hrs 50 mins</td>\n",
       "      <td>1 connection</td>\n",
       "    </tr>\n",
       "    <tr>\n",
       "      <th>0</th>\n",
       "      <td>04</td>\n",
       "      <td>B777</td>\n",
       "      <td>EK527</td>\n",
       "      <td>B777</td>\n",
       "      <td>EK043</td>\n",
       "      <td>HYD</td>\n",
       "      <td>10:00</td>\n",
       "      <td>FRA</td>\n",
       "      <td>07:35 +1</td>\n",
       "      <td>26 hrs 5 mins</td>\n",
       "      <td>1 connection</td>\n",
       "    </tr>\n",
       "    <tr>\n",
       "      <th>0</th>\n",
       "      <td>05</td>\n",
       "      <td>B777</td>\n",
       "      <td>EK525</td>\n",
       "      <td>B777</td>\n",
       "      <td>EK043</td>\n",
       "      <td>HYD</td>\n",
       "      <td>04:10</td>\n",
       "      <td>FRA</td>\n",
       "      <td>07:35 +1</td>\n",
       "      <td>31 hrs 55 mins</td>\n",
       "      <td>1 connection</td>\n",
       "    </tr>\n",
       "  </tbody>\n",
       "</table>\n",
       "</div>"
      ],
      "text/plain": [
       "   ID Airliner1 Flight_Number1 Airliner2 Flight_Number2 Source Departure_Time  \\\n",
       "0  01      B777          EK527      A380          EK047    HYD          10:00   \n",
       "0  02      B777          EK529      B777          EK043    HYD          21:20   \n",
       "0  03      B777          EK525      A380          EK047    HYD          04:10   \n",
       "0  04      B777          EK527      B777          EK043    HYD          10:00   \n",
       "0  05      B777          EK525      B777          EK043    HYD          04:10   \n",
       "\n",
       "  Destination Arrival_Time      Total_Time   Connections  \n",
       "0         FRA        19:30    14 hrs 0 min  1 connection  \n",
       "0         FRA     07:35 +1  14 hrs 45 mins  1 connection  \n",
       "0         FRA        19:30  19 hrs 50 mins  1 connection  \n",
       "0         FRA     07:35 +1   26 hrs 5 mins  1 connection  \n",
       "0         FRA     07:35 +1  31 hrs 55 mins  1 connection  "
      ]
     },
     "execution_count": 155,
     "metadata": {},
     "output_type": "execute_result"
    }
   ],
   "source": [
    "df_flight_dtl = df_flight_dtl.drop(0,axis=1)\n",
    "df_flight_dtl"
   ]
  },
  {
   "cell_type": "markdown",
   "metadata": {},
   "source": [
    "### 3.6.2 Get the right pane details of all available flights"
   ]
  },
  {
   "cell_type": "code",
   "execution_count": 131,
   "metadata": {},
   "outputs": [
    {
     "data": {
      "text/plain": [
       "[<selenium.webdriver.remote.webelement.WebElement (session=\"8f44bbe83f3b6ef3e2ad0455fb5971c6\", element=\"3b724067-c2f0-4676-aab2-b8076e1860db\")>,\n",
       " <selenium.webdriver.remote.webelement.WebElement (session=\"8f44bbe83f3b6ef3e2ad0455fb5971c6\", element=\"2c8b04df-d0f9-4593-b3b5-5574576cf0e9\")>,\n",
       " <selenium.webdriver.remote.webelement.WebElement (session=\"8f44bbe83f3b6ef3e2ad0455fb5971c6\", element=\"fbfb177e-a600-44dc-a98f-8b901f86ad8f\")>,\n",
       " <selenium.webdriver.remote.webelement.WebElement (session=\"8f44bbe83f3b6ef3e2ad0455fb5971c6\", element=\"75ddf093-cb9a-4272-93c2-7e87c6873f6a\")>,\n",
       " <selenium.webdriver.remote.webelement.WebElement (session=\"8f44bbe83f3b6ef3e2ad0455fb5971c6\", element=\"94331229-e20d-4e4a-96c7-40052a3d3d0b\")>]"
      ]
     },
     "execution_count": 131,
     "metadata": {},
     "output_type": "execute_result"
    }
   ],
   "source": [
    "flight_dtls = driver.find_elements(By.CLASS_NAME, \"RPA.ts-fbr-flight-list-row__options\")\n",
    "flight_dtls"
   ]
  },
  {
   "cell_type": "code",
   "execution_count": 138,
   "metadata": {},
   "outputs": [
    {
     "data": {
      "text/html": [
       "<div>\n",
       "<style scoped>\n",
       "    .dataframe tbody tr th:only-of-type {\n",
       "        vertical-align: middle;\n",
       "    }\n",
       "\n",
       "    .dataframe tbody tr th {\n",
       "        vertical-align: top;\n",
       "    }\n",
       "\n",
       "    .dataframe thead th {\n",
       "        text-align: right;\n",
       "    }\n",
       "</style>\n",
       "<table border=\"1\" class=\"dataframe\">\n",
       "  <thead>\n",
       "    <tr style=\"text-align: right;\">\n",
       "      <th></th>\n",
       "      <th>0</th>\n",
       "      <th>1</th>\n",
       "      <th>2</th>\n",
       "      <th>3</th>\n",
       "      <th>4</th>\n",
       "      <th>5</th>\n",
       "      <th>6</th>\n",
       "      <th>7</th>\n",
       "      <th>8</th>\n",
       "      <th>9</th>\n",
       "      <th>10</th>\n",
       "      <th>11</th>\n",
       "    </tr>\n",
       "  </thead>\n",
       "  <tbody>\n",
       "    <tr>\n",
       "      <th>0</th>\n",
       "      <td>Economy</td>\n",
       "      <td>from INR</td>\n",
       "      <td>53,995</td>\n",
       "      <td></td>\n",
       "      <td>Business</td>\n",
       "      <td>from INR</td>\n",
       "      <td>225,415</td>\n",
       "      <td></td>\n",
       "      <td>First</td>\n",
       "      <td>from INR</td>\n",
       "      <td>438,008</td>\n",
       "      <td>NaN</td>\n",
       "    </tr>\n",
       "    <tr>\n",
       "      <th>0</th>\n",
       "      <td>Economy</td>\n",
       "      <td>from INR</td>\n",
       "      <td>53,995</td>\n",
       "      <td></td>\n",
       "      <td>Business</td>\n",
       "      <td>from INR</td>\n",
       "      <td>225,415</td>\n",
       "      <td></td>\n",
       "      <td>First</td>\n",
       "      <td>from INR</td>\n",
       "      <td>438,008</td>\n",
       "      <td>NaN</td>\n",
       "    </tr>\n",
       "    <tr>\n",
       "      <th>0</th>\n",
       "      <td>Economy</td>\n",
       "      <td>from INR</td>\n",
       "      <td>53,995</td>\n",
       "      <td></td>\n",
       "      <td>Business</td>\n",
       "      <td>from INR</td>\n",
       "      <td>225,415</td>\n",
       "      <td></td>\n",
       "      <td>First</td>\n",
       "      <td>from INR</td>\n",
       "      <td>438,008</td>\n",
       "      <td>Partially available</td>\n",
       "    </tr>\n",
       "    <tr>\n",
       "      <th>0</th>\n",
       "      <td>Economy</td>\n",
       "      <td>from INR</td>\n",
       "      <td>53,995</td>\n",
       "      <td></td>\n",
       "      <td>Business</td>\n",
       "      <td>from INR</td>\n",
       "      <td>225,415</td>\n",
       "      <td></td>\n",
       "      <td>First</td>\n",
       "      <td>from INR</td>\n",
       "      <td>438,008</td>\n",
       "      <td>NaN</td>\n",
       "    </tr>\n",
       "    <tr>\n",
       "      <th>0</th>\n",
       "      <td>Economy</td>\n",
       "      <td>from INR</td>\n",
       "      <td>53,995</td>\n",
       "      <td></td>\n",
       "      <td>Business</td>\n",
       "      <td>from INR</td>\n",
       "      <td>225,415</td>\n",
       "      <td></td>\n",
       "      <td>First</td>\n",
       "      <td>from INR</td>\n",
       "      <td>438,008</td>\n",
       "      <td>Partially available</td>\n",
       "    </tr>\n",
       "  </tbody>\n",
       "</table>\n",
       "</div>"
      ],
      "text/plain": [
       "        0         1       2  3         4         5        6  7      8   \\\n",
       "0  Economy  from INR  53,995     Business  from INR  225,415     First   \n",
       "0  Economy  from INR  53,995     Business  from INR  225,415     First   \n",
       "0  Economy  from INR  53,995     Business  from INR  225,415     First   \n",
       "0  Economy  from INR  53,995     Business  from INR  225,415     First   \n",
       "0  Economy  from INR  53,995     Business  from INR  225,415     First   \n",
       "\n",
       "         9        10                   11  \n",
       "0  from INR  438,008                  NaN  \n",
       "0  from INR  438,008                  NaN  \n",
       "0  from INR  438,008  Partially available  \n",
       "0  from INR  438,008                  NaN  \n",
       "0  from INR  438,008  Partially available  "
      ]
     },
     "execution_count": 138,
     "metadata": {},
     "output_type": "execute_result"
    }
   ],
   "source": [
    "df_flight_dtl_cost = pd.DataFrame()\n",
    "\n",
    "for flight_dtl in flight_dtls:\n",
    "    \n",
    "    info_dtl = flight_dtl.text.split(\"\\n\")\n",
    "    \n",
    "    for info in info_dtl:\n",
    "        if info==\"Lowest price\":\n",
    "            info_dtl.remove(info)\n",
    "    df_flight_dtl_cost = pd.concat([df_flight_dtl_cost, pd.DataFrame(info_dtl).T])\n",
    "    \n",
    "df_flight_dtl_cost"
   ]
  },
  {
   "cell_type": "code",
   "execution_count": 139,
   "metadata": {},
   "outputs": [],
   "source": [
    "rename_cols = {\n",
    "    2:\"Economy_INR\",\n",
    "    6:\"Business_INR\",\n",
    "    10:\"First_INR\",\n",
    "    11:\"Class_Availability\"\n",
    "}"
   ]
  },
  {
   "cell_type": "code",
   "execution_count": 145,
   "metadata": {},
   "outputs": [
    {
     "data": {
      "text/html": [
       "<div>\n",
       "<style scoped>\n",
       "    .dataframe tbody tr th:only-of-type {\n",
       "        vertical-align: middle;\n",
       "    }\n",
       "\n",
       "    .dataframe tbody tr th {\n",
       "        vertical-align: top;\n",
       "    }\n",
       "\n",
       "    .dataframe thead th {\n",
       "        text-align: right;\n",
       "    }\n",
       "</style>\n",
       "<table border=\"1\" class=\"dataframe\">\n",
       "  <thead>\n",
       "    <tr style=\"text-align: right;\">\n",
       "      <th></th>\n",
       "      <th>Economy_INR</th>\n",
       "      <th>Business_INR</th>\n",
       "      <th>First_INR</th>\n",
       "      <th>Class_Availability</th>\n",
       "    </tr>\n",
       "  </thead>\n",
       "  <tbody>\n",
       "    <tr>\n",
       "      <th>0</th>\n",
       "      <td>53,995</td>\n",
       "      <td>225,415</td>\n",
       "      <td>438,008</td>\n",
       "      <td>NaN</td>\n",
       "    </tr>\n",
       "    <tr>\n",
       "      <th>0</th>\n",
       "      <td>53,995</td>\n",
       "      <td>225,415</td>\n",
       "      <td>438,008</td>\n",
       "      <td>NaN</td>\n",
       "    </tr>\n",
       "    <tr>\n",
       "      <th>0</th>\n",
       "      <td>53,995</td>\n",
       "      <td>225,415</td>\n",
       "      <td>438,008</td>\n",
       "      <td>Partially available</td>\n",
       "    </tr>\n",
       "    <tr>\n",
       "      <th>0</th>\n",
       "      <td>53,995</td>\n",
       "      <td>225,415</td>\n",
       "      <td>438,008</td>\n",
       "      <td>NaN</td>\n",
       "    </tr>\n",
       "    <tr>\n",
       "      <th>0</th>\n",
       "      <td>53,995</td>\n",
       "      <td>225,415</td>\n",
       "      <td>438,008</td>\n",
       "      <td>Partially available</td>\n",
       "    </tr>\n",
       "  </tbody>\n",
       "</table>\n",
       "</div>"
      ],
      "text/plain": [
       "  Economy_INR Business_INR First_INR   Class_Availability\n",
       "0      53,995      225,415   438,008                  NaN\n",
       "0      53,995      225,415   438,008                  NaN\n",
       "0      53,995      225,415   438,008  Partially available\n",
       "0      53,995      225,415   438,008                  NaN\n",
       "0      53,995      225,415   438,008  Partially available"
      ]
     },
     "execution_count": 145,
     "metadata": {},
     "output_type": "execute_result"
    }
   ],
   "source": [
    "df_flight_dtl_cost = df_flight_dtl_cost.rename(columns = rename_cols).drop([0,1,3,4,5,7,8,9], axis=1)\n",
    "df_flight_dtl_cost"
   ]
  },
  {
   "cell_type": "markdown",
   "metadata": {},
   "source": [
    "### 3.7 Join both Dataframes "
   ]
  },
  {
   "cell_type": "code",
   "execution_count": 159,
   "metadata": {},
   "outputs": [
    {
     "data": {
      "text/html": [
       "<div>\n",
       "<style scoped>\n",
       "    .dataframe tbody tr th:only-of-type {\n",
       "        vertical-align: middle;\n",
       "    }\n",
       "\n",
       "    .dataframe tbody tr th {\n",
       "        vertical-align: top;\n",
       "    }\n",
       "\n",
       "    .dataframe thead th {\n",
       "        text-align: right;\n",
       "    }\n",
       "</style>\n",
       "<table border=\"1\" class=\"dataframe\">\n",
       "  <thead>\n",
       "    <tr style=\"text-align: right;\">\n",
       "      <th></th>\n",
       "      <th>Airliner1</th>\n",
       "      <th>Flight_Number1</th>\n",
       "      <th>Airliner2</th>\n",
       "      <th>Flight_Number2</th>\n",
       "      <th>Source</th>\n",
       "      <th>Departure_Time</th>\n",
       "      <th>Destination</th>\n",
       "      <th>Arrival_Time</th>\n",
       "      <th>Total_Time</th>\n",
       "      <th>Connections</th>\n",
       "      <th>Economy_INR</th>\n",
       "      <th>Business_INR</th>\n",
       "      <th>First_INR</th>\n",
       "      <th>Class_Availability</th>\n",
       "    </tr>\n",
       "    <tr>\n",
       "      <th>ID</th>\n",
       "      <th></th>\n",
       "      <th></th>\n",
       "      <th></th>\n",
       "      <th></th>\n",
       "      <th></th>\n",
       "      <th></th>\n",
       "      <th></th>\n",
       "      <th></th>\n",
       "      <th></th>\n",
       "      <th></th>\n",
       "      <th></th>\n",
       "      <th></th>\n",
       "      <th></th>\n",
       "      <th></th>\n",
       "    </tr>\n",
       "  </thead>\n",
       "  <tbody>\n",
       "    <tr>\n",
       "      <th>01</th>\n",
       "      <td>B777</td>\n",
       "      <td>EK527</td>\n",
       "      <td>A380</td>\n",
       "      <td>EK047</td>\n",
       "      <td>HYD</td>\n",
       "      <td>10:00</td>\n",
       "      <td>FRA</td>\n",
       "      <td>19:30</td>\n",
       "      <td>14 hrs 0 min</td>\n",
       "      <td>1 connection</td>\n",
       "      <td>53,995</td>\n",
       "      <td>225,415</td>\n",
       "      <td>438,008</td>\n",
       "      <td>NaN</td>\n",
       "    </tr>\n",
       "    <tr>\n",
       "      <th>02</th>\n",
       "      <td>B777</td>\n",
       "      <td>EK529</td>\n",
       "      <td>B777</td>\n",
       "      <td>EK043</td>\n",
       "      <td>HYD</td>\n",
       "      <td>21:20</td>\n",
       "      <td>FRA</td>\n",
       "      <td>07:35 +1</td>\n",
       "      <td>14 hrs 45 mins</td>\n",
       "      <td>1 connection</td>\n",
       "      <td>53,995</td>\n",
       "      <td>225,415</td>\n",
       "      <td>438,008</td>\n",
       "      <td>NaN</td>\n",
       "    </tr>\n",
       "    <tr>\n",
       "      <th>03</th>\n",
       "      <td>B777</td>\n",
       "      <td>EK525</td>\n",
       "      <td>A380</td>\n",
       "      <td>EK047</td>\n",
       "      <td>HYD</td>\n",
       "      <td>04:10</td>\n",
       "      <td>FRA</td>\n",
       "      <td>19:30</td>\n",
       "      <td>19 hrs 50 mins</td>\n",
       "      <td>1 connection</td>\n",
       "      <td>53,995</td>\n",
       "      <td>225,415</td>\n",
       "      <td>438,008</td>\n",
       "      <td>Partially available</td>\n",
       "    </tr>\n",
       "    <tr>\n",
       "      <th>04</th>\n",
       "      <td>B777</td>\n",
       "      <td>EK527</td>\n",
       "      <td>B777</td>\n",
       "      <td>EK043</td>\n",
       "      <td>HYD</td>\n",
       "      <td>10:00</td>\n",
       "      <td>FRA</td>\n",
       "      <td>07:35 +1</td>\n",
       "      <td>26 hrs 5 mins</td>\n",
       "      <td>1 connection</td>\n",
       "      <td>53,995</td>\n",
       "      <td>225,415</td>\n",
       "      <td>438,008</td>\n",
       "      <td>NaN</td>\n",
       "    </tr>\n",
       "    <tr>\n",
       "      <th>05</th>\n",
       "      <td>B777</td>\n",
       "      <td>EK525</td>\n",
       "      <td>B777</td>\n",
       "      <td>EK043</td>\n",
       "      <td>HYD</td>\n",
       "      <td>04:10</td>\n",
       "      <td>FRA</td>\n",
       "      <td>07:35 +1</td>\n",
       "      <td>31 hrs 55 mins</td>\n",
       "      <td>1 connection</td>\n",
       "      <td>53,995</td>\n",
       "      <td>225,415</td>\n",
       "      <td>438,008</td>\n",
       "      <td>Partially available</td>\n",
       "    </tr>\n",
       "  </tbody>\n",
       "</table>\n",
       "</div>"
      ],
      "text/plain": [
       "   Airliner1 Flight_Number1 Airliner2 Flight_Number2 Source Departure_Time  \\\n",
       "ID                                                                           \n",
       "01      B777          EK527      A380          EK047    HYD          10:00   \n",
       "02      B777          EK529      B777          EK043    HYD          21:20   \n",
       "03      B777          EK525      A380          EK047    HYD          04:10   \n",
       "04      B777          EK527      B777          EK043    HYD          10:00   \n",
       "05      B777          EK525      B777          EK043    HYD          04:10   \n",
       "\n",
       "   Destination Arrival_Time      Total_Time   Connections Economy_INR  \\\n",
       "ID                                                                      \n",
       "01         FRA        19:30    14 hrs 0 min  1 connection      53,995   \n",
       "02         FRA     07:35 +1  14 hrs 45 mins  1 connection      53,995   \n",
       "03         FRA        19:30  19 hrs 50 mins  1 connection      53,995   \n",
       "04         FRA     07:35 +1   26 hrs 5 mins  1 connection      53,995   \n",
       "05         FRA     07:35 +1  31 hrs 55 mins  1 connection      53,995   \n",
       "\n",
       "   Business_INR First_INR   Class_Availability  \n",
       "ID                                              \n",
       "01      225,415   438,008                  NaN  \n",
       "02      225,415   438,008                  NaN  \n",
       "03      225,415   438,008  Partially available  \n",
       "04      225,415   438,008                  NaN  \n",
       "05      225,415   438,008  Partially available  "
      ]
     },
     "execution_count": 159,
     "metadata": {},
     "output_type": "execute_result"
    }
   ],
   "source": [
    "df_final = pd.concat([df_flight_dtl, df_flight_dtl_cost], axis=1).set_index(\"ID\")\n",
    "df_final"
   ]
  },
  {
   "cell_type": "markdown",
   "metadata": {},
   "source": [
    "# Send Email "
   ]
  },
  {
   "cell_type": "code",
   "execution_count": 15,
   "metadata": {
    "execution": {
     "iopub.execute_input": "2023-04-24T01:37:58.708628Z",
     "iopub.status.busy": "2023-04-24T01:37:58.708043Z",
     "iopub.status.idle": "2023-04-24T01:37:58.712813Z",
     "shell.execute_reply": "2023-04-24T01:37:58.713264Z"
    }
   },
   "outputs": [],
   "source": [
    "import smtplib, ssl\n",
    "from email.message import EmailMessage\n",
    "import datetime"
   ]
  },
  {
   "cell_type": "code",
   "execution_count": 16,
   "metadata": {
    "execution": {
     "iopub.execute_input": "2023-04-24T01:37:58.717667Z",
     "iopub.status.busy": "2023-04-24T01:37:58.717064Z",
     "iopub.status.idle": "2023-04-24T01:37:58.719802Z",
     "shell.execute_reply": "2023-04-24T01:37:58.720163Z"
    }
   },
   "outputs": [
    {
     "data": {
      "text/plain": [
       "'24/4/2023'"
      ]
     },
     "execution_count": 1,
     "metadata": {},
     "output_type": "execute_result"
    }
   ],
   "source": [
    "today = datetime.datetime.today()\n",
    "today_str = f\"{today.day}/{today.month}/{today.year}\"\n",
    "today_str"
   ]
  },
  {
   "cell_type": "code",
   "execution_count": 17,
   "metadata": {
    "execution": {
     "iopub.execute_input": "2023-04-24T01:37:58.723590Z",
     "iopub.status.busy": "2023-04-24T01:37:58.723136Z",
     "iopub.status.idle": "2023-04-24T01:37:58.738234Z",
     "shell.execute_reply": "2023-04-24T01:37:58.738645Z"
    }
   },
   "outputs": [],
   "source": [
    "message = EmailMessage()\n",
    "message['Subject'] = \"\"\n",
    "message['From'] = \"\"\n",
    "message['To'] = [\"\"]"
   ]
  },
  {
   "cell_type": "code",
   "execution_count": 18,
   "metadata": {
    "execution": {
     "iopub.execute_input": "2023-04-24T01:37:58.741779Z",
     "iopub.status.busy": "2023-04-24T01:37:58.741329Z",
     "iopub.status.idle": "2023-04-24T01:37:58.747767Z",
     "shell.execute_reply": "2023-04-24T01:37:58.747265Z"
    }
   },
   "outputs": [],
   "source": [
    "context = ssl._create_unverified_context()\n",
    "message.set_content(f'')"
   ]
  },
  {
   "cell_type": "code",
   "execution_count": 19,
   "metadata": {
    "execution": {
     "iopub.execute_input": "2023-04-24T01:37:58.750922Z",
     "iopub.status.busy": "2023-04-24T01:37:58.750452Z",
     "iopub.status.idle": "2023-04-24T01:37:58.752214Z",
     "shell.execute_reply": "2023-04-24T01:37:58.752842Z"
    }
   },
   "outputs": [],
   "source": [
    "csv_lists = [\n",
    "    file_path + '.csv'\n",
    "]"
   ]
  },
  {
   "cell_type": "code",
   "execution_count": 20,
   "metadata": {
    "execution": {
     "iopub.execute_input": "2023-04-24T01:37:58.756999Z",
     "iopub.status.busy": "2023-04-24T01:37:58.756537Z",
     "iopub.status.idle": "2023-04-24T01:37:59.771817Z",
     "shell.execute_reply": "2023-04-24T01:37:59.772224Z"
    }
   },
   "outputs": [],
   "source": [
    "for file_name in csv_lists:\n",
    "    with open(file_name,'rb') as f:\n",
    "        file_data = f.read()\n",
    "        file_name = f.name.split(\"/\")[1]\n",
    "\n",
    "    message.add_attachment(file_data, maintype='application', subtype='octet-stream', filename=file_name)"
   ]
  },
  {
   "cell_type": "code",
   "execution_count": 21,
   "metadata": {
    "execution": {
     "iopub.execute_input": "2023-04-24T01:37:59.775886Z",
     "iopub.status.busy": "2023-04-24T01:37:59.775426Z",
     "iopub.status.idle": "2023-04-24T01:38:21.238631Z",
     "shell.execute_reply": "2023-04-24T01:38:21.238110Z"
    }
   },
   "outputs": [],
   "source": [
    "with smtplib.SMTP('', 587) as smtp:\n",
    "    smtp.ehlo()\n",
    "    smtp.starttls(context = context)\n",
    "    smtp.ehlo()\n",
    "    smtp.send_message(message)"
   ]
  }
 ],
 "metadata": {
  "kernelspec": {
   "display_name": "Python 3 (ipykernel)",
   "language": "python",
   "name": "python3"
  },
  "language_info": {
   "codemirror_mode": {
    "name": "ipython",
    "version": 3
   },
   "file_extension": ".py",
   "mimetype": "text/x-python",
   "name": "python",
   "nbconvert_exporter": "python",
   "pygments_lexer": "ipython3",
   "version": "3.9.13"
  }
 },
 "nbformat": 4,
 "nbformat_minor": 4
}
